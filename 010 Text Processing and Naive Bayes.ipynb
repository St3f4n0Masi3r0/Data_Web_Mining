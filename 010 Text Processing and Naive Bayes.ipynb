{
 "cells": [
  {
   "cell_type": "markdown",
   "metadata": {},
   "source": [
    "# Text Processing and Naive Bayes"
   ]
  },
  {
   "cell_type": "markdown",
   "metadata": {},
   "source": [
    "## SMS Spam Collection Data Set\n",
    "\n",
    "Dataset at: https://archive.ics.uci.edu/ml/datasets/SMS+Spam+Collection"
   ]
  },
  {
   "cell_type": "code",
   "execution_count": 13,
   "metadata": {
    "scrolled": true
   },
   "outputs": [],
   "source": [
    "import pandas as pd\n",
    "\n",
    "filename = \"~/Desktop/Esercizi_università/Data_Web_Mining/Dati/SMSSpamCollection\"\n",
    "data = pd.read_csv(filename, delimiter='\\t', header=None,\n",
    "                    names = ['label', 'text'])"
   ]
  },
  {
   "cell_type": "code",
   "execution_count": 14,
   "metadata": {},
   "outputs": [
    {
     "data": {
      "text/html": [
       "<div>\n",
       "<style scoped>\n",
       "    .dataframe tbody tr th:only-of-type {\n",
       "        vertical-align: middle;\n",
       "    }\n",
       "\n",
       "    .dataframe tbody tr th {\n",
       "        vertical-align: top;\n",
       "    }\n",
       "\n",
       "    .dataframe thead th {\n",
       "        text-align: right;\n",
       "    }\n",
       "</style>\n",
       "<table border=\"1\" class=\"dataframe\">\n",
       "  <thead>\n",
       "    <tr style=\"text-align: right;\">\n",
       "      <th></th>\n",
       "      <th>label</th>\n",
       "      <th>text</th>\n",
       "    </tr>\n",
       "  </thead>\n",
       "  <tbody>\n",
       "    <tr>\n",
       "      <th>0</th>\n",
       "      <td>ham</td>\n",
       "      <td>Go until jurong point, crazy.. Available only ...</td>\n",
       "    </tr>\n",
       "    <tr>\n",
       "      <th>1</th>\n",
       "      <td>ham</td>\n",
       "      <td>Ok lar... Joking wif u oni...</td>\n",
       "    </tr>\n",
       "    <tr>\n",
       "      <th>2</th>\n",
       "      <td>spam</td>\n",
       "      <td>Free entry in 2 a wkly comp to win FA Cup fina...</td>\n",
       "    </tr>\n",
       "    <tr>\n",
       "      <th>3</th>\n",
       "      <td>ham</td>\n",
       "      <td>U dun say so early hor... U c already then say...</td>\n",
       "    </tr>\n",
       "    <tr>\n",
       "      <th>4</th>\n",
       "      <td>ham</td>\n",
       "      <td>Nah I don't think he goes to usf, he lives aro...</td>\n",
       "    </tr>\n",
       "  </tbody>\n",
       "</table>\n",
       "</div>"
      ],
      "text/plain": [
       "  label                                               text\n",
       "0   ham  Go until jurong point, crazy.. Available only ...\n",
       "1   ham                      Ok lar... Joking wif u oni...\n",
       "2  spam  Free entry in 2 a wkly comp to win FA Cup fina...\n",
       "3   ham  U dun say so early hor... U c already then say...\n",
       "4   ham  Nah I don't think he goes to usf, he lives aro..."
      ]
     },
     "execution_count": 14,
     "metadata": {},
     "output_type": "execute_result"
    }
   ],
   "source": [
    "data.head()"
   ]
  },
  {
   "cell_type": "code",
   "execution_count": 15,
   "metadata": {},
   "outputs": [
    {
     "data": {
      "text/plain": [
       "'Go until jurong point, crazy.. Available only in bugis n great world la e buffet... Cine there got amore wat...'"
      ]
     },
     "execution_count": 15,
     "metadata": {},
     "output_type": "execute_result"
    }
   ],
   "source": [
    "data.loc[0,'text']"
   ]
  },
  {
   "cell_type": "code",
   "execution_count": 16,
   "metadata": {},
   "outputs": [
    {
     "data": {
      "text/plain": [
       "\"Free entry in 2 a wkly comp to win FA Cup final tkts 21st May 2005. Text FA to 87121 to receive entry question(std txt rate)T&C's apply 08452810075over18's\""
      ]
     },
     "execution_count": 16,
     "metadata": {},
     "output_type": "execute_result"
    }
   ],
   "source": [
    "data.loc[2,'text']"
   ]
  },
  {
   "cell_type": "code",
   "execution_count": 17,
   "metadata": {},
   "outputs": [
    {
     "data": {
      "text/plain": [
       "ham     4825\n",
       "spam     747\n",
       "Name: label, dtype: int64"
      ]
     },
     "execution_count": 17,
     "metadata": {},
     "output_type": "execute_result"
    }
   ],
   "source": [
    "data['label'].value_counts()"
   ]
  },
  {
   "cell_type": "code",
   "execution_count": 18,
   "metadata": {},
   "outputs": [],
   "source": [
    "from sklearn.model_selection import train_test_split\n",
    "X_train, X_test, y_train, y_test = train_test_split(data['text'], data['label'], random_state=0)"
   ]
  },
  {
   "cell_type": "markdown",
   "metadata": {},
   "source": [
    "### Baseline Classifier"
   ]
  },
  {
   "cell_type": "code",
   "execution_count": 19,
   "metadata": {},
   "outputs": [
    {
     "name": "stdout",
     "output_type": "stream",
     "text": [
      "Baseline Accuracy: 86.72%\n"
     ]
    }
   ],
   "source": [
    "baseline_acc = y_test.value_counts()[0] / len(y_test)\n",
    "print ( f\"Baseline Accuracy: {baseline_acc*100:.2f}%\" )"
   ]
  },
  {
   "cell_type": "code",
   "execution_count": 20,
   "metadata": {},
   "outputs": [
    {
     "name": "stdout",
     "output_type": "stream",
     "text": [
      "Baseline Accuracy: 86.72%\n"
     ]
    }
   ],
   "source": [
    "baseline_pred = y_train.value_counts().index[0]\n",
    "baseline_acc=sum( baseline_pred==y_test )/len(y_test)\n",
    "print ( f\"Baseline Accuracy: {baseline_acc*100:.2f}%\" )"
   ]
  },
  {
   "cell_type": "markdown",
   "metadata": {},
   "source": [
    "## How to build a classifier?"
   ]
  },
  {
   "cell_type": "code",
   "execution_count": null,
   "metadata": {},
   "outputs": [],
   "source": []
  },
  {
   "cell_type": "code",
   "execution_count": null,
   "metadata": {},
   "outputs": [],
   "source": []
  },
  {
   "cell_type": "code",
   "execution_count": null,
   "metadata": {},
   "outputs": [],
   "source": []
  },
  {
   "cell_type": "code",
   "execution_count": null,
   "metadata": {},
   "outputs": [],
   "source": []
  },
  {
   "cell_type": "code",
   "execution_count": null,
   "metadata": {},
   "outputs": [],
   "source": []
  },
  {
   "cell_type": "code",
   "execution_count": null,
   "metadata": {},
   "outputs": [],
   "source": []
  },
  {
   "cell_type": "code",
   "execution_count": null,
   "metadata": {},
   "outputs": [],
   "source": []
  },
  {
   "cell_type": "markdown",
   "metadata": {},
   "source": [
    "## Feature Processing"
   ]
  },
  {
   "cell_type": "markdown",
   "metadata": {},
   "source": [
    "## Option 1: a text is a **set of words**"
   ]
  },
  {
   "cell_type": "code",
   "execution_count": 21,
   "metadata": {},
   "outputs": [],
   "source": [
    "X_train_words = X_train.apply(lambda x: set(x.split()))"
   ]
  },
  {
   "cell_type": "code",
   "execution_count": 22,
   "metadata": {},
   "outputs": [
    {
     "data": {
      "text/plain": [
       "872     {good...no, understand, going, experience, pro...\n",
       "831     {So, opt, have, special., R, recd., STOP., 078...\n",
       "1273                                              {Ok...}\n",
       "3314    {take, Anyway,, if, have, choice, confused...,...\n",
       "4929    {up, too, wasn‘t, Just, gone, pissed, and, his...\n",
       "Name: text, dtype: object"
      ]
     },
     "execution_count": 22,
     "metadata": {},
     "output_type": "execute_result"
    }
   ],
   "source": [
    "X_train_words.head()"
   ]
  },
  {
   "cell_type": "code",
   "execution_count": 23,
   "metadata": {},
   "outputs": [],
   "source": [
    "X_train_words = X_train.apply(lambda x: set(x.lower().split()))"
   ]
  },
  {
   "cell_type": "code",
   "execution_count": 24,
   "metadata": {},
   "outputs": [
    {
     "data": {
      "text/plain": [
       "872     {good...no, understand, going, experience, pro...\n",
       "831     {opt, u, stop., cust, so, have, call, to, spec...\n",
       "1273                                              {ok...}\n",
       "3314    {anyway,, take, if, have, choice, confused...,...\n",
       "4929    {up, too, wasn‘t, gone, pissed, and, his, some...\n",
       "Name: text, dtype: object"
      ]
     },
     "execution_count": 24,
     "metadata": {},
     "output_type": "execute_result"
    }
   ],
   "source": [
    "X_train_words.head()"
   ]
  },
  {
   "cell_type": "code",
   "execution_count": 25,
   "metadata": {},
   "outputs": [
    {
     "name": "stdout",
     "output_type": "stream",
     "text": [
      "11439\n"
     ]
    }
   ],
   "source": [
    "# union of all terms\n",
    "lexicon = set.union( *X_train_words ) # * unpack iterable into arguments\n",
    "\n",
    "print ( len( lexicon ) ) # This would make a large matrix !\n",
    "# print ( lexicon )"
   ]
  },
  {
   "cell_type": "code",
   "execution_count": 26,
   "metadata": {},
   "outputs": [
    {
     "name": "stdout",
     "output_type": "stream",
     "text": [
      "(4179, 7546)\n"
     ]
    }
   ],
   "source": [
    "from sklearn.feature_extraction.text import CountVectorizer\n",
    "\n",
    "vctz = CountVectorizer(binary=True)\n",
    "\n",
    "X_train = vctz.fit_transform(X_train)\n",
    "\n",
    "print (X_train.shape)\n",
    "\n",
    "# print (vctz.vocabulary_)"
   ]
  },
  {
   "cell_type": "code",
   "execution_count": 27,
   "metadata": {},
   "outputs": [
    {
     "name": "stdout",
     "output_type": "stream",
     "text": [
      "  (0, 3676)\t1\n",
      "  (0, 3090)\t1\n",
      "  (0, 3100)\t1\n",
      "  (0, 4663)\t1\n",
      "  (0, 5294)\t1\n",
      "  (0, 1526)\t1\n",
      "  (0, 6315)\t1\n",
      "  (0, 4593)\t1\n",
      "  (0, 4049)\t1\n",
      "  (0, 2630)\t1\n",
      "  (0, 6764)\t1\n",
      "  (0, 6964)\t1\n",
      "  (0, 915)\t1\n",
      "  (0, 2058)\t1\n",
      "  (0, 7133)\t1\n"
     ]
    }
   ],
   "source": [
    "print ( X_train[0,:] ) # X is in sparse Format"
   ]
  },
  {
   "cell_type": "code",
   "execution_count": 28,
   "metadata": {},
   "outputs": [
    {
     "name": "stdout",
     "output_type": "stream",
     "text": [
      "Baseline Accuracy: 97.06%\n"
     ]
    }
   ],
   "source": [
    "from sklearn.metrics import accuracy_score\n",
    "from sklearn.tree import DecisionTreeClassifier\n",
    "\n",
    "model = DecisionTreeClassifier()\n",
    "model.fit(X_train,y_train)\n",
    "\n",
    "model_acc = accuracy_score ( y_true = y_test,\n",
    "     y_pred = model.predict( vctz.transform(X_test) ))\n",
    "print ( f\"Baseline Accuracy: {model_acc*100:.2f}%\" )"
   ]
  },
  {
   "cell_type": "markdown",
   "metadata": {},
   "source": [
    "## Option 2: a text is a **bag of words**"
   ]
  },
  {
   "cell_type": "code",
   "execution_count": 29,
   "metadata": {},
   "outputs": [],
   "source": [
    "# get data\n",
    "from sklearn.model_selection import train_test_split\n",
    "X_train, X_test, y_train, y_test = train_test_split(data['text'], data['label'], random_state=0)\n",
    "\n",
    "# create the vectorier\n",
    "from sklearn.feature_extraction.text import CountVectorizer\n",
    "vctz = CountVectorizer(binary=False)\n",
    "X_train = vctz.fit_transform(X_train)"
   ]
  },
  {
   "cell_type": "code",
   "execution_count": 30,
   "metadata": {},
   "outputs": [
    {
     "name": "stdout",
     "output_type": "stream",
     "text": [
      "Baseline Accuracy: 96.98%\n"
     ]
    }
   ],
   "source": [
    "from sklearn.metrics import accuracy_score\n",
    "from sklearn.tree import DecisionTreeClassifier\n",
    "\n",
    "model = DecisionTreeClassifier()\n",
    "model.fit(X_train,y_train)\n",
    "\n",
    "model_acc = accuracy_score ( y_true = y_test,\n",
    "     y_pred = model.predict( vctz.transform(X_test) ))\n",
    "print ( f\"Baseline Accuracy: {model_acc*100:.2f}%\" )"
   ]
  },
  {
   "cell_type": "markdown",
   "metadata": {},
   "source": [
    "## Option 3: TF-IDF"
   ]
  },
  {
   "cell_type": "markdown",
   "metadata": {},
   "source": [
    "### Term frequency\n",
    "\n",
    "The term frequency used above is simply the number of times a term occurs in a document $tf(t)$.\n",
    "\n",
    "\n",
    "### Inverse document frequency\n",
    "\n",
    "Inverse document frequency approximates the specificity of a term in a given document collection.\n",
    "IDF is defined as follows:\n",
    "\n",
    "$$\n",
    "idf(t) = \\ln \\frac{N_{docs}}{df(t)}\n",
    "$$\n",
    "\n",
    "where $N_{docs}$ is the number of documents in the collection and ${df(t)}$ is the number of documents containing the term $t$.\n",
    "\n",
    "IDF is used to discount frequent terms.\n",
    "\n",
    "The weight of a term for a document is thus defined as $tf(t)\\cdot idf(t)$."
   ]
  },
  {
   "cell_type": "code",
   "execution_count": 31,
   "metadata": {},
   "outputs": [],
   "source": [
    "# get data\n",
    "from sklearn.model_selection import train_test_split\n",
    "X_train, X_test, y_train, y_test = train_test_split(data['text'], data['label'], random_state=0)\n",
    "\n",
    "# create the vectorier\n",
    "from sklearn.feature_extraction.text import TfidfVectorizer\n",
    "vctz = TfidfVectorizer()\n",
    "X_train = vctz.fit_transform(X_train)"
   ]
  },
  {
   "cell_type": "code",
   "execution_count": 32,
   "metadata": {},
   "outputs": [
    {
     "name": "stdout",
     "output_type": "stream",
     "text": [
      "Model Accuracy: 96.84%\n"
     ]
    }
   ],
   "source": [
    "from sklearn.metrics import accuracy_score\n",
    "from sklearn.tree import DecisionTreeClassifier\n",
    "\n",
    "model = DecisionTreeClassifier()\n",
    "model.fit(X_train,y_train)\n",
    "\n",
    "model_acc = accuracy_score ( y_true = y_test,\n",
    "     y_pred = model.predict( vctz.transform(X_test) ))\n",
    "print ( f\"Model Accuracy: {model_acc*100:.2f}%\" )"
   ]
  },
  {
   "cell_type": "markdown",
   "metadata": {},
   "source": [
    "## More Text Processing\n",
    "\n",
    "Typical \"text normalization\" steps are:\n",
    "\n",
    " - **Stemming** refers to the removal of prefix/suffixes: `being` -> `be`, `was`->`was` \n",
    "\n",
    " - **Lemming** refers to the identification of the \"origin\" of a word: `being` -> `be`, `was`->`be`\n"
   ]
  },
  {
   "cell_type": "code",
   "execution_count": 33,
   "metadata": {},
   "outputs": [],
   "source": [
    "import spacy\n",
    "\n",
    "# create a spaCy tokenizer\n",
    "nlp = spacy.load('en_core_web_sm')"
   ]
  },
  {
   "cell_type": "code",
   "execution_count": 34,
   "metadata": {},
   "outputs": [
    {
     "name": "stdout",
     "output_type": "stream",
     "text": [
      "token:I  -> lemma:I\n",
      "token:love  -> lemma:love\n",
      "token:playing  -> lemma:play\n",
      "token:tennis  -> lemma:tennis\n"
     ]
    }
   ],
   "source": [
    "doc = nlp(\"I love playing tennis\")\n",
    "for token in doc:\n",
    "    print (f\"token:{token}  -> lemma:{token.lemma_}\")"
   ]
  },
  {
   "cell_type": "code",
   "execution_count": 35,
   "metadata": {},
   "outputs": [],
   "source": [
    "import spacy\n",
    "nlp = spacy.load('en_core_web_sm')\n",
    "\n",
    "def my_tokenizer(x):\n",
    "    doc = nlp(x)\n",
    "    return([token.lemma_ for token in doc])\n",
    "\n",
    "# get data\n",
    "from sklearn.model_selection import train_test_split\n",
    "X_train, X_test, y_train, y_test = train_test_split(data['text'], data['label'], random_state=0)\n",
    "\n",
    "# create the vectorier\n",
    "from sklearn.feature_extraction.text import TfidfVectorizer\n",
    "vctz = TfidfVectorizer(tokenizer=my_tokenizer)\n",
    "X_train = vctz.fit_transform(X_train)"
   ]
  },
  {
   "cell_type": "code",
   "execution_count": 36,
   "metadata": {},
   "outputs": [
    {
     "name": "stdout",
     "output_type": "stream",
     "text": [
      "Model Accuracy: 96.84%\n"
     ]
    }
   ],
   "source": [
    "from sklearn.metrics import accuracy_score\n",
    "from sklearn.tree import DecisionTreeClassifier\n",
    "\n",
    "model = DecisionTreeClassifier()\n",
    "model.fit(X_train,y_train)\n",
    "\n",
    "model_acc = accuracy_score ( y_true = y_test,\n",
    "     y_pred = model.predict( vctz.transform(X_test) ))\n",
    "print ( f\"Model Accuracy: {model_acc*100:.2f}%\" )"
   ]
  },
  {
   "cell_type": "markdown",
   "metadata": {},
   "source": [
    "See more about Spacy: https://spacy.io/usage/linguistic-features"
   ]
  },
  {
   "cell_type": "markdown",
   "metadata": {},
   "source": [
    "# Naive Bayes\n",
    "\n",
    "#### Example\n",
    "\n",
    "You want to go running today, but the morning is cloudy. You know that:\n",
    "\n",
    " - 50% of all rainy days start off cloudy\n",
    " - 40% of days start cloudy\n",
    " - This is typically a dry month, only 10% of the days are rainy\n",
    "\n",
    "**What is the chance of rain?**\n",
    "\n",
    "Or... what is $P(Rain|Cloudy)$ ?\n"
   ]
  },
  {
   "cell_type": "markdown",
   "metadata": {},
   "source": [
    "We recall that:\n",
    "\n",
    "$$P(Y|X) = \\frac{P(X,Y)}{P(X)}$$\n",
    "\n",
    "which implies:\n",
    "\n",
    "$$P(X,Y) = P(Y|X)P(X) \\quad\\quad\\quad P(X,Y) = P(X|Y)P(Y)$$\n",
    "\n",
    "From the last two equations, we can derive the Bayes Theorem:\n",
    "\n",
    "$$P(Y|X) = \\frac{P(X|Y)P(Y)}{P(X)}$$\n"
   ]
  },
  {
   "cell_type": "markdown",
   "metadata": {},
   "source": [
    "In our example:\n",
    "\n",
    "$$P(Rain|Cloudy) = \\frac{P(Cloudy|Rain)P(Rain)}{P(Cloudy)}$$\n",
    "\n",
    "$$P(Rain|Cloudy) = \\frac{0.50 \\cdot 0.10}{ 0.40 } = 12.5\\% $$\n",
    "\n",
    "... well, lower than I expected!\n"
   ]
  },
  {
   "cell_type": "markdown",
   "metadata": {},
   "source": [
    "In a Machine Learning scenario, the question becomes:\n",
    "\n",
    " - what is $P(y|X)$ ?\n",
    "\n",
    "Or, in presence of multiple classes $C_1, \\ldots, C_m$, what is \n",
    "\n",
    "$$\\arg \\max_{C_i} P(C_i |X)$$\n"
   ]
  },
  {
   "cell_type": "markdown",
   "metadata": {},
   "source": [
    "In order to make this computation feasible , we assume features are conditionally independent of one another:\n",
    "\n",
    "$$\n",
    " P(C_i |X) = P(x_1 | C_i) \\cdot P(x_2 | C_i) \\cdot \\ldots P(x_f | C_i)\n",
    "$$\n",
    "\n",
    "and therefore the prediction of our model is:\n",
    "\n",
    "$$\\arg \\max_{C_i} P(C_i |X) = P(x_1 | C_i) \\cdot P(x_2 | C_i) \\cdot \\ldots P(x_f | C_i) \\frac{P(C_i)}{P(X)}\n",
    "$$\n",
    "\n",
    "Note that $P(X)$ does not change the ranking of the different classes $C_i$, and therefore it can be removed for classification purposes."
   ]
  },
  {
   "cell_type": "markdown",
   "metadata": {},
   "source": [
    "- Nicely enough, $P(x_j|C_i)$ can be pre-computed from the dataset\n",
    "  - **Multinomial Naive Byes**: if feature $f_j$ is **categorical** then $P(x_j|C_i)$ is the number of instances in the dataset of class $C_i$ whose $j$-the features has the same values as $X$, divided by the cardinality of $C_i$.\n",
    "  - **Gaussian Naive Byes**: if feature $f_j$ is **numerical** then we assume the feature has Gaussian distribution and, after computing mean $\\mu$ and standard deviation $\\sigma$ from the dataset, we have:\n",
    "  $$\n",
    "  P(x_j|C_i) = \\frac{1}{\\sqrt{2\\pi}\\sigma} e^{-\\frac{(x_j-\\mu)^2}{2\\sigma^2}}\n",
    "  $$"
   ]
  },
  {
   "cell_type": "markdown",
   "metadata": {},
   "source": [
    "\n",
    "- Bayesian classifiers are statistical classifiers. They can predict class membership probabilities such as the probability that a given tuple belongs to a particular class.\n",
    "\n",
    "- Naive Bayesian classifiers assume that the effect of an attribute value on a given class is independent of the values of the other attributes."
   ]
  },
  {
   "cell_type": "code",
   "execution_count": 37,
   "metadata": {},
   "outputs": [],
   "source": [
    "# get data\n",
    "from sklearn.model_selection import train_test_split\n",
    "X_train, X_test, y_train, y_test = train_test_split(data['text'], data['label'], random_state=0)\n",
    "\n",
    "# create the vectorizer\n",
    "from sklearn.feature_extraction.text import CountVectorizer\n",
    "vctz = CountVectorizer(binary=False)\n",
    "X_train = vctz.fit_transform(X_train)"
   ]
  },
  {
   "cell_type": "code",
   "execution_count": 38,
   "metadata": {},
   "outputs": [
    {
     "name": "stdout",
     "output_type": "stream",
     "text": [
      "Model Accuracy: 98.85%\n"
     ]
    }
   ],
   "source": [
    "from sklearn.metrics import accuracy_score\n",
    "from sklearn.naive_bayes import MultinomialNB\n",
    "\n",
    "model = MultinomialNB()\n",
    "model.fit(X_train.toarray(),y_train)\n",
    "\n",
    "model_acc = accuracy_score ( y_true = y_test,\n",
    "     y_pred = model.predict( vctz.transform(X_test).toarray() ))\n",
    "print ( f\"Model Accuracy: {model_acc*100:.2f}%\" )"
   ]
  },
  {
   "cell_type": "markdown",
   "metadata": {},
   "source": [
    "## What if we have $P(x_j|C_i)$ = 0?\n",
    "\n",
    "\n",
    "- The whole product goes to zero, even if signals from other features were very strong.\n",
    "\n",
    "- **Laplace Correction**: Pretend we observe one additional instance for feature value.\n",
    "$$\n",
    "P(x_j|C_i) = \\frac{N_{ij}+1}{N_i + v}\n",
    "$$ \n",
    "\n",
    "where $v$ is the total number of unique values in $D$. There are other variants.\n",
    "\n",
    "## What if we have missing values?\n",
    "\n",
    "- At training time skip instance\n",
    "\n",
    "- At test time assume $P(x_j|C_i)$ is the same for each $C_i$, skip features\n",
    "\n",
    "## Computational Complexity?\n",
    "\n",
    "- Obviously fast\n",
    "- Common practice: avoid numerical issues (e.g., underflow) by computing the log:\n",
    "$$\n",
    " \\log P(C_i |X) = \\log(P(x_1 | C_i)) + \\log( P(x_2 | C_i)) \\cdot \\ldots \\log(P(x_f | C_f))\n",
    "$$\n",
    "\n",
    "## Remarks\n",
    "- parameters can be estimated with a small amount of data\n",
    "- Robust to isolated noise points\n",
    "- Handle missing values \n",
    "- Robust to irrelevant attributes\n",
    "  - they do not impact much on estimating the model parameters\n",
    "- Independence assumption may not hold for some attributes\n",
    "- extremely fast for both training and prediction\n",
    "- provide straightforward probabilistic prediction\n",
    "- easily interpretable\n",
    "- few tunable parameters"
   ]
  },
  {
   "cell_type": "code",
   "execution_count": 39,
   "metadata": {},
   "outputs": [
    {
     "data": {
      "image/png": "[encoded data removed]",
      "text/plain": [
       "<Figure size 432x288 with 2 Axes>"
      ]
     },
     "metadata": {
      "needs_background": "light"
     },
     "output_type": "display_data"
    },
    {
     "data": {
      "image/png": "[encoded data removed]",
      "text/plain": [
       "<Figure size 432x288 with 1 Axes>"
      ]
     },
     "metadata": {
      "needs_background": "light"
     },
     "output_type": "display_data"
    }
   ],
   "source": [
    "from sklearn.metrics import RocCurveDisplay, ConfusionMatrixDisplay\n",
    "\n",
    "ConfusionMatrixDisplay.from_estimator(\n",
    "    estimator=model,\n",
    "    X=vctz.transform (X_test), y=y_test, \n",
    "    cmap = 'Blues_r');\n",
    "\n",
    "\n",
    "\n",
    "RocCurveDisplay.from_estimator(\n",
    "    estimator=model,\n",
    "    X=vctz.transform (X_test), y=y_test);"
   ]
  },
  {
   "cell_type": "code",
   "execution_count": 40,
   "metadata": {},
   "outputs": [
    {
     "name": "stdout",
     "output_type": "stream",
     "text": [
      "AUROC: 0.977\n"
     ]
    }
   ],
   "source": [
    "from sklearn.metrics import roc_auc_score\n",
    "\n",
    "auroc = roc_auc_score( y_true  = y_test, \n",
    "                       y_score = model.predict_proba(vctz.transform(X_test))[:,1])\n",
    "\n",
    "print (f\"AUROC: {auroc:.3f}\")"
   ]
  },
  {
   "cell_type": "markdown",
   "metadata": {},
   "source": [
    "### Additional insight: Detection error tradeoff (DET) curve\n",
    "\n",
    "Illustrates the trade-off between False Positives and False Negatives in normal deviate scale."
   ]
  },
  {
   "cell_type": "markdown",
   "metadata": {},
   "source": [
    "**False Positive Rate**: $\\frac{\\text{\\# False Positives}}{\\text{\\# Total Negatives}}$\n",
    "\n",
    "**False Negative Rate**: $\\frac{\\text{\\# False Negatives}}{\\text{\\# Total Positives}}$"
   ]
  },
  {
   "cell_type": "code",
   "execution_count": 41,
   "metadata": {},
   "outputs": [
    {
     "data": {
      "image/png": "[encoded data removed]",
      "text/plain": [
       "<Figure size 648x432 with 1 Axes>"
      ]
     },
     "metadata": {
      "needs_background": "light"
     },
     "output_type": "display_data"
    }
   ],
   "source": [
    "import matplotlib.pyplot as plt\n",
    "from sklearn.metrics import DetCurveDisplay\n",
    "\n",
    "fig, ax = plt.subplots(figsize=(9, 6))\n",
    "\n",
    "DetCurveDisplay.from_estimator(\n",
    "    estimator=model,\n",
    "    X=vctz.transform (X_test), y=y_test,\n",
    "    ax=ax);\n",
    "\n",
    "ax.set_title('DET Curve')\n",
    "ax.grid()"
   ]
  }
 ],
 "metadata": {
  "kernelspec": {
   "display_name": "Python 3 (ipykernel)",
   "language": "python",
   "name": "python3"
  },
  "language_info": {
   "codemirror_mode": {
    "name": "ipython",
    "version": 3
   },
   "file_extension": ".py",
   "mimetype": "text/x-python",
   "name": "python",
   "nbconvert_exporter": "python",
   "pygments_lexer": "ipython3",
   "version": "3.10.8"
  },
  "vscode": {
   "interpreter": {
    "hash": "31f2aee4e71d21fbe5cf8b01ff0e069b9275f58929596ceb00d14d90e3e16cd6"
   }
  }
 },
 "nbformat": 4,
 "nbformat_minor": 2
}
